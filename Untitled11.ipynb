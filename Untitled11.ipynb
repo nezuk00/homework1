{
  "nbformat": 4,
  "nbformat_minor": 0,
  "metadata": {
    "colab": {
      "provenance": [],
      "authorship_tag": "ABX9TyMsLEiPo3Y4JpyGibx4y8xw",
      "include_colab_link": true
    },
    "kernelspec": {
      "name": "python3",
      "display_name": "Python 3"
    },
    "language_info": {
      "name": "python"
    }
  },
  "cells": [
    {
      "cell_type": "markdown",
      "metadata": {
        "id": "view-in-github",
        "colab_type": "text"
      },
      "source": [
        "<a href=\"https://colab.research.google.com/github/nezuk00/homework1/blob/main/Untitled11.ipynb\" target=\"_parent\"><img src=\"https://colab.research.google.com/assets/colab-badge.svg\" alt=\"Open In Colab\"/></a>"
      ]
    },
    {
      "cell_type": "code",
      "source": [
        "import numpy as np\n",
        "\n",
        "A = np.random.rand(3, 3)\n",
        "B = np.random.rand(3, 3)\n",
        "print(\"Массив A:\\n\", A)\n",
        "print(\"\\nМассив B:\\n\", B)\n",
        "matrix = np.dot(A, B)\n",
        "print(\"\\nМатричное произведение np.dot(A, B):\\n\", matrix)\n",
        "element = A * B\n",
        "print(\"\\nПоэлементное произведение A * B:\\n\", element)"
      ],
      "metadata": {
        "colab": {
          "base_uri": "https://localhost:8080/"
        },
        "id": "aBRvmaKi4bL8",
        "outputId": "dde4f891-74b9-4fc5-a01d-a54fcac9a5d6"
      },
      "execution_count": 35,
      "outputs": [
        {
          "output_type": "stream",
          "name": "stdout",
          "text": [
            "Массив A:\n",
            " [[0.41398012 0.8584908  0.5445425 ]\n",
            " [0.37591856 0.96861353 0.31622691]\n",
            " [0.19854459 0.31601731 0.38612335]]\n",
            "\n",
            "Массив B:\n",
            " [[0.60497146 0.23090538 0.92751983]\n",
            " [0.98352641 0.24122752 0.9048051 ]\n",
            " [0.70778173 0.16056938 0.24144283]]\n",
            "\n",
            "Матричное произведение np.dot(A, B):\n",
            " [[1.48021177 0.3901187  1.29221751]\n",
            " [1.40389662 0.37123422 1.3014291 ]\n",
            " [0.70421623 0.18407667 0.56331483]]\n",
            "\n",
            "Поэлементное произведение A * B:\n",
            " [[0.25044616 0.19823015 0.50507396]\n",
            " [0.36972583 0.23365624 0.28612372]\n",
            " [0.14052624 0.0507427  0.09322671]]\n"
          ]
        }
      ]
    },
    {
      "cell_type": "code",
      "source": [],
      "metadata": {
        "id": "jGM5SLRzVnY4"
      },
      "execution_count": 26,
      "outputs": []
    }
  ]
}